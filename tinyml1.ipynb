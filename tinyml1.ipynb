{
  "nbformat": 4,
  "nbformat_minor": 0,
  "metadata": {
    "colab": {
      "name": "Untitled0.ipynb",
      "provenance": [],
      "authorship_tag": "ABX9TyMBx9pjy2ELTjxTKkbcslWF",
      "include_colab_link": true
    },
    "kernelspec": {
      "name": "python3",
      "display_name": "Python 3"
    },
    "language_info": {
      "name": "python"
    }
  },
  "cells": [
    {
      "cell_type": "markdown",
      "metadata": {
        "id": "view-in-github",
        "colab_type": "text"
      },
      "source": [
        "<a href=\"https://colab.research.google.com/github/ALVINMAGULU/ALVINMAGULU/blob/main/tinyml1.ipynb\" target=\"_parent\"><img src=\"https://colab.research.google.com/assets/colab-badge.svg\" alt=\"Open In Colab\"/></a>"
      ]
    },
    {
      "cell_type": "code",
      "execution_count": 4,
      "metadata": {
        "id": "XxIIpWqVNspQ"
      },
      "outputs": [],
      "source": [
        "import tensorflow as tf\n",
        "# Define my custom Neural Network model\n",
        "\n",
        "class MyModel(tf.keras.Model):\n",
        "\n",
        "    def __init__(self):\n",
        "\n",
        "        super(MyModel, self).__init__()\n",
        "\n",
        "        # define Neural Network layer types\n",
        "\n",
        "        self.conv = tf.keras.layers.Conv2D(32, 3, activation='relu')\n",
        "\n",
        "        self.flatten = tf.keras.layers.Flatten()\n",
        "\n",
        "        self.dense1 = tf.keras.layers.Dense(128, activation='relu')\n",
        "\n",
        "        self.dense2 = tf.keras.layers.Dense(10)\n",
        "  #  run my Neural Network model by evaluating\n",
        "\n",
        "    # each layer on my input data\n",
        "\n",
        "    def call(self, x):\n",
        "\n",
        "        x = self.conv(x)\n",
        "\n",
        "        x = self.flatten(x)\n",
        "\n",
        "        x = self.dense1(x)\n",
        "\n",
        "        x = self.dense2(x)\n",
        "\n",
        "        return x\n",
        "model = MyModel()"
      ]
    }
  ]
}